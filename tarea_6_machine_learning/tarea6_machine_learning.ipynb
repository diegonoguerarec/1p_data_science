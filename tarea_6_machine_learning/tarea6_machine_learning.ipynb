{
 "cells": [
  {
   "cell_type": "markdown",
   "id": "294c9864-bb14-488c-855c-04f6509ca71d",
   "metadata": {},
   "source": [
    "# Carga y exploración de datos"
   ]
  },
  {
   "cell_type": "markdown",
   "id": "deb57952-0f6b-49c4-88cb-9e834a93a7d9",
   "metadata": {},
   "source": [
    "### Importación de librerias"
   ]
  },
  {
   "cell_type": "code",
   "execution_count": 37,
   "id": "1f3b95cb-0937-44b7-a3c5-5b9d6c5a7a47",
   "metadata": {},
   "outputs": [],
   "source": [
    "import pandas as pd\n",
    "\n",
    "import seaborn as sns\n",
    "import matplotlib.pyplot as plt\n",
    "\n",
    "from scipy.stats import kruskal\n",
    "\n",
    "from sklearn.model_selection import train_test_split, GridSearchCV\n",
    "from sklearn.preprocessing import StandardScaler  # o MinMaxScaler\n",
    "\n",
    "from sklearn.neighbors import KNeighborsClassifier\n",
    "from sklearn.tree import DecisionTreeClassifier\n",
    "from sklearn.metrics import classification_report, confusion_matrix"
   ]
  },
  {
   "cell_type": "markdown",
   "id": "f80907f2-d6bb-4bb3-ba07-e83a46e45c35",
   "metadata": {},
   "source": [
    "### Importa el dataset Celular.csv en un Jupyter Notebook con pandas"
   ]
  },
  {
   "cell_type": "code",
   "execution_count": 2,
   "id": "62a4c61e-9d4b-4da3-81a9-026a2642f9ce",
   "metadata": {},
   "outputs": [
    {
     "data": {
      "text/html": [
       "<div>\n",
       "<style scoped>\n",
       "    .dataframe tbody tr th:only-of-type {\n",
       "        vertical-align: middle;\n",
       "    }\n",
       "\n",
       "    .dataframe tbody tr th {\n",
       "        vertical-align: top;\n",
       "    }\n",
       "\n",
       "    .dataframe thead th {\n",
       "        text-align: right;\n",
       "    }\n",
       "</style>\n",
       "<table border=\"1\" class=\"dataframe\">\n",
       "  <thead>\n",
       "    <tr style=\"text-align: right;\">\n",
       "      <th></th>\n",
       "      <th>salario</th>\n",
       "      <th>economias</th>\n",
       "      <th>edad</th>\n",
       "      <th>deudas</th>\n",
       "      <th>plan</th>\n",
       "    </tr>\n",
       "  </thead>\n",
       "  <tbody>\n",
       "    <tr>\n",
       "      <th>0</th>\n",
       "      <td>5.1</td>\n",
       "      <td>3.5</td>\n",
       "      <td>1.4</td>\n",
       "      <td>0.2</td>\n",
       "      <td>1</td>\n",
       "    </tr>\n",
       "    <tr>\n",
       "      <th>1</th>\n",
       "      <td>4.9</td>\n",
       "      <td>3.0</td>\n",
       "      <td>1.4</td>\n",
       "      <td>0.2</td>\n",
       "      <td>1</td>\n",
       "    </tr>\n",
       "    <tr>\n",
       "      <th>2</th>\n",
       "      <td>4.7</td>\n",
       "      <td>3.2</td>\n",
       "      <td>1.3</td>\n",
       "      <td>0.2</td>\n",
       "      <td>1</td>\n",
       "    </tr>\n",
       "    <tr>\n",
       "      <th>3</th>\n",
       "      <td>4.6</td>\n",
       "      <td>3.1</td>\n",
       "      <td>1.5</td>\n",
       "      <td>0.2</td>\n",
       "      <td>1</td>\n",
       "    </tr>\n",
       "    <tr>\n",
       "      <th>4</th>\n",
       "      <td>5.0</td>\n",
       "      <td>3.6</td>\n",
       "      <td>1.4</td>\n",
       "      <td>0.2</td>\n",
       "      <td>1</td>\n",
       "    </tr>\n",
       "  </tbody>\n",
       "</table>\n",
       "</div>"
      ],
      "text/plain": [
       "   salario  economias  edad  deudas  plan\n",
       "0      5.1        3.5   1.4     0.2     1\n",
       "1      4.9        3.0   1.4     0.2     1\n",
       "2      4.7        3.2   1.3     0.2     1\n",
       "3      4.6        3.1   1.5     0.2     1\n",
       "4      5.0        3.6   1.4     0.2     1"
      ]
     },
     "execution_count": 2,
     "metadata": {},
     "output_type": "execute_result"
    }
   ],
   "source": [
    "dataset = pd.read_csv(\"Celular.csv\")\n",
    "dataset.head()"
   ]
  },
  {
   "cell_type": "markdown",
   "id": "ae0d52c3-a34e-4326-bc67-f17552746b23",
   "metadata": {},
   "source": [
    "### Verifica valores faltantes y distribuciones de cada variable"
   ]
  },
  {
   "cell_type": "code",
   "execution_count": 4,
   "id": "4a57ff74-742c-4980-aa08-df961ecefe70",
   "metadata": {},
   "outputs": [
    {
     "name": "stdout",
     "output_type": "stream",
     "text": [
      "<class 'pandas.core.frame.DataFrame'>\n",
      "RangeIndex: 150 entries, 0 to 149\n",
      "Data columns (total 5 columns):\n",
      " #   Column     Non-Null Count  Dtype  \n",
      "---  ------     --------------  -----  \n",
      " 0   salario    150 non-null    float64\n",
      " 1   economias  150 non-null    float64\n",
      " 2   edad       150 non-null    float64\n",
      " 3   deudas     150 non-null    float64\n",
      " 4   plan       150 non-null    int64  \n",
      "dtypes: float64(4), int64(1)\n",
      "memory usage: 6.0 KB\n"
     ]
    }
   ],
   "source": [
    "dataset.info()"
   ]
  },
  {
   "cell_type": "code",
   "execution_count": 7,
   "id": "3fe459a8-357f-4d1d-ab94-57fe603e3fcc",
   "metadata": {},
   "outputs": [
    {
     "data": {
      "text/plain": [
       "(150, 5)"
      ]
     },
     "execution_count": 7,
     "metadata": {},
     "output_type": "execute_result"
    }
   ],
   "source": [
    "dataset.shape"
   ]
  },
  {
   "cell_type": "code",
   "execution_count": 10,
   "id": "5a052495-85da-4235-99ee-33b05fa269a2",
   "metadata": {},
   "outputs": [
    {
     "data": {
      "text/plain": [
       "array([1, 2, 3])"
      ]
     },
     "execution_count": 10,
     "metadata": {},
     "output_type": "execute_result"
    }
   ],
   "source": [
    "# Tipos de plan\n",
    "dataset[\"plan\"].unique()"
   ]
  },
  {
   "cell_type": "code",
   "execution_count": 8,
   "id": "ffc42f8c-e146-49aa-b9c6-fda0c8afaef3",
   "metadata": {},
   "outputs": [
    {
     "data": {
      "text/html": [
       "<div>\n",
       "<style scoped>\n",
       "    .dataframe tbody tr th:only-of-type {\n",
       "        vertical-align: middle;\n",
       "    }\n",
       "\n",
       "    .dataframe tbody tr th {\n",
       "        vertical-align: top;\n",
       "    }\n",
       "\n",
       "    .dataframe thead th {\n",
       "        text-align: right;\n",
       "    }\n",
       "</style>\n",
       "<table border=\"1\" class=\"dataframe\">\n",
       "  <thead>\n",
       "    <tr style=\"text-align: right;\">\n",
       "      <th></th>\n",
       "      <th>salario</th>\n",
       "      <th>economias</th>\n",
       "      <th>edad</th>\n",
       "      <th>deudas</th>\n",
       "      <th>plan</th>\n",
       "    </tr>\n",
       "  </thead>\n",
       "  <tbody>\n",
       "    <tr>\n",
       "      <th>count</th>\n",
       "      <td>150.000000</td>\n",
       "      <td>150.000000</td>\n",
       "      <td>150.000000</td>\n",
       "      <td>150.000000</td>\n",
       "      <td>150.000000</td>\n",
       "    </tr>\n",
       "    <tr>\n",
       "      <th>mean</th>\n",
       "      <td>5.843333</td>\n",
       "      <td>3.054000</td>\n",
       "      <td>3.758667</td>\n",
       "      <td>1.198667</td>\n",
       "      <td>2.000000</td>\n",
       "    </tr>\n",
       "    <tr>\n",
       "      <th>std</th>\n",
       "      <td>0.828066</td>\n",
       "      <td>0.433594</td>\n",
       "      <td>1.764420</td>\n",
       "      <td>0.763161</td>\n",
       "      <td>0.819232</td>\n",
       "    </tr>\n",
       "    <tr>\n",
       "      <th>min</th>\n",
       "      <td>4.300000</td>\n",
       "      <td>2.000000</td>\n",
       "      <td>1.000000</td>\n",
       "      <td>0.100000</td>\n",
       "      <td>1.000000</td>\n",
       "    </tr>\n",
       "    <tr>\n",
       "      <th>25%</th>\n",
       "      <td>5.100000</td>\n",
       "      <td>2.800000</td>\n",
       "      <td>1.600000</td>\n",
       "      <td>0.300000</td>\n",
       "      <td>1.000000</td>\n",
       "    </tr>\n",
       "    <tr>\n",
       "      <th>50%</th>\n",
       "      <td>5.800000</td>\n",
       "      <td>3.000000</td>\n",
       "      <td>4.350000</td>\n",
       "      <td>1.300000</td>\n",
       "      <td>2.000000</td>\n",
       "    </tr>\n",
       "    <tr>\n",
       "      <th>75%</th>\n",
       "      <td>6.400000</td>\n",
       "      <td>3.300000</td>\n",
       "      <td>5.100000</td>\n",
       "      <td>1.800000</td>\n",
       "      <td>3.000000</td>\n",
       "    </tr>\n",
       "    <tr>\n",
       "      <th>max</th>\n",
       "      <td>7.900000</td>\n",
       "      <td>4.400000</td>\n",
       "      <td>6.900000</td>\n",
       "      <td>2.500000</td>\n",
       "      <td>3.000000</td>\n",
       "    </tr>\n",
       "  </tbody>\n",
       "</table>\n",
       "</div>"
      ],
      "text/plain": [
       "          salario   economias        edad      deudas        plan\n",
       "count  150.000000  150.000000  150.000000  150.000000  150.000000\n",
       "mean     5.843333    3.054000    3.758667    1.198667    2.000000\n",
       "std      0.828066    0.433594    1.764420    0.763161    0.819232\n",
       "min      4.300000    2.000000    1.000000    0.100000    1.000000\n",
       "25%      5.100000    2.800000    1.600000    0.300000    1.000000\n",
       "50%      5.800000    3.000000    4.350000    1.300000    2.000000\n",
       "75%      6.400000    3.300000    5.100000    1.800000    3.000000\n",
       "max      7.900000    4.400000    6.900000    2.500000    3.000000"
      ]
     },
     "execution_count": 8,
     "metadata": {},
     "output_type": "execute_result"
    }
   ],
   "source": [
    "dataset.describe()"
   ]
  },
  {
   "cell_type": "markdown",
   "id": "75bbe132-aaa0-43c5-b5e2-66179ee16fa6",
   "metadata": {},
   "source": [
    "# Analisis exploratorio"
   ]
  },
  {
   "cell_type": "code",
   "execution_count": 14,
   "id": "9018cda6-bf1f-40e4-8e7b-cec085dd67d1",
   "metadata": {},
   "outputs": [
    {
     "data": {
      "image/png": "[encoded data removed]",
      "text/plain": [
       "<Figure size 640x480 with 1 Axes>"
      ]
     },
     "metadata": {},
     "output_type": "display_data"
    },
    {
     "data": {
      "image/png": "[encoded data removed]",
      "text/plain": [
       "<Figure size 640x480 with 1 Axes>"
      ]
     },
     "metadata": {},
     "output_type": "display_data"
    },
    {
     "data": {
      "image/png": "[encoded data removed]",
      "text/plain": [
       "<Figure size 640x480 with 1 Axes>"
      ]
     },
     "metadata": {},
     "output_type": "display_data"
    },
    {
     "data": {
      "image/png": "[encoded data removed]",
      "text/plain": [
       "<Figure size 640x480 with 1 Axes>"
      ]
     },
     "metadata": {},
     "output_type": "display_data"
    }
   ],
   "source": [
    "for col in [\"salario\", \"economias\", \"edad\", \"deudas\"]:\n",
    "    sns.boxplot(x=\"plan\", y=col, data=dataset)\n",
    "    plt.show()"
   ]
  },
  {
   "cell_type": "code",
   "execution_count": 24,
   "id": "cb0fd898-98e3-4196-bfe1-20f0ccfcd02e",
   "metadata": {},
   "outputs": [
    {
     "name": "stdout",
     "output_type": "stream",
     "text": [
      "salario p-value: 8.91873433246198e-22\n",
      "economias p-value: 2.6882119006774528e-14\n",
      "edad p-value: 4.7967237479455454e-29\n",
      "deudas p-value: 3.415387999117524e-29\n"
     ]
    }
   ],
   "source": [
    "# Kruskal-Wallis:\n",
    "# Si el p-value < 0.05, hay evidencia de que esa variable numérica está relacionada con la clase plan.\n",
    "for col in [\"salario\", \"economias\", \"edad\", \"deudas\"]:\n",
    "    groups = [dataset[dataset[\"plan\"] == p][col] for p in dataset[\"plan\"].unique()]\n",
    "    stat, pval = kruskal(*groups)\n",
    "    print(col, \"p-value:\", pval)\n",
    "\n",
    "# Todas lass variables tienen p-value < 0.05, entonces hay evidencia de que todas las variables están relacionadas con plan."
   ]
  },
  {
   "cell_type": "markdown",
   "id": "a06b1ec4-0393-452e-b05a-1c7583de8772",
   "metadata": {},
   "source": [
    "# Preparación de datos"
   ]
  },
  {
   "cell_type": "code",
   "execution_count": 26,
   "id": "a60f8941-11a6-4888-b470-99d84809f498",
   "metadata": {},
   "outputs": [],
   "source": [
    "# Variables predictoras y objetivo\n",
    "X = dataset[[\"salario\", \"economias\", \"edad\", \"deudas\"]]\n",
    "y = dataset[\"plan\"]"
   ]
  },
  {
   "cell_type": "code",
   "execution_count": 28,
   "id": "6f2aa336-af60-493d-b876-15610874c39e",
   "metadata": {},
   "outputs": [],
   "source": [
    "# Separar en train (70%) y test (30%)\n",
    "X_train, X_test, y_train, y_test = train_test_split(X, y, test_size=0.3, random_state=42, stratify=y)  # estratifica para balancear clases"
   ]
  },
  {
   "cell_type": "code",
   "execution_count": 29,
   "id": "55289aa1-9db1-4f57-87b7-986ce0462462",
   "metadata": {},
   "outputs": [],
   "source": [
    "scaler = StandardScaler() # Convierte a media = 0 y std = 1"
   ]
  },
  {
   "cell_type": "code",
   "execution_count": 32,
   "id": "56451998-2c62-41d5-a335-65660d8a5a08",
   "metadata": {},
   "outputs": [],
   "source": [
    "X_train_standard = scaler.fit_transform(X_train)\n",
    "X_test_standard = scaler.fit_transform(X_test)"
   ]
  },
  {
   "cell_type": "markdown",
   "id": "67ded86b-f8ef-4ea5-8aa3-4bf5440c4399",
   "metadata": {},
   "source": [
    "# Entrenamiento de modelos"
   ]
  },
  {
   "cell_type": "markdown",
   "id": "f87270ef-0eb4-4b00-97e6-390f20f892e9",
   "metadata": {},
   "source": [
    "### KNN"
   ]
  },
  {
   "cell_type": "code",
   "execution_count": 36,
   "id": "99659d08-a12c-4cca-b088-ff158c709f52",
   "metadata": {},
   "outputs": [
    {
     "name": "stdout",
     "output_type": "stream",
     "text": [
      "Mejores hiperparámetros: {'n_neighbors': 5, 'p': 1, 'weights': 'uniform'}\n",
      "Mejor puntaje CV (F1 macro): 0.9712820512820514\n",
      "\n",
      "--- Reporte de Clasificación ---\n",
      "              precision    recall  f1-score   support\n",
      "\n",
      "           1       1.00      1.00      1.00        15\n",
      "           2       0.82      0.93      0.88        15\n",
      "           3       0.92      0.80      0.86        15\n",
      "\n",
      "    accuracy                           0.91        45\n",
      "   macro avg       0.92      0.91      0.91        45\n",
      "weighted avg       0.92      0.91      0.91        45\n",
      "\n",
      "\n",
      "--- Matriz de Confusión ---\n",
      "[[15  0  0]\n",
      " [ 0 14  1]\n",
      " [ 0  3 12]]\n"
     ]
    }
   ],
   "source": [
    "# Definir el modelo base\n",
    "knn = KNeighborsClassifier()\n",
    "\n",
    "# Definir espacio de hiperparámetros para búsqueda\n",
    "param_grid = {\n",
    "    \"n_neighbors\": [3, 5, 7, 9, 11, 15],\n",
    "    \"weights\": [\"uniform\", \"distance\"],\n",
    "    \"p\": [1, 2]   # 1=Manhattan, 2=Euclídea\n",
    "}\n",
    "\n",
    "# Búsqueda con validación cruzada\n",
    "grid = GridSearchCV(\n",
    "    knn,\n",
    "    param_grid,\n",
    "    cv=5,               # validación cruzada estratificada en 5 folds\n",
    "    scoring=\"f1_macro\", # métrica principal (ajústala según tu caso)\n",
    "    n_jobs=-1\n",
    ")\n",
    "grid.fit(X_train_standard, y_train)\n",
    "\n",
    "print(\"Mejores hiperparámetros:\", grid.best_params_)\n",
    "print(\"Mejor puntaje CV (F1 macro):\", grid.best_score_)\n",
    "\n",
    "# Evaluar en test con el mejor modelo\n",
    "best_knn = grid.best_estimator_\n",
    "y_pred = best_knn.predict(X_test_standard)\n",
    "\n",
    "print(\"\\n--- Reporte de Clasificación ---\")\n",
    "print(classification_report(y_test, y_pred))\n",
    "\n",
    "print(\"\\n--- Matriz de Confusión ---\")\n",
    "print(confusion_matrix(y_test, y_pred))"
   ]
  },
  {
   "cell_type": "markdown",
   "id": "5b7e5ea0-2f1f-4220-9818-d4b52d0ff5c0",
   "metadata": {},
   "source": [
    "### Arbol de decision"
   ]
  },
  {
   "cell_type": "code",
   "execution_count": 38,
   "id": "b66d3c61-80ae-4289-a92d-314cc54c0717",
   "metadata": {},
   "outputs": [
    {
     "name": "stdout",
     "output_type": "stream",
     "text": [
      "Mejores hiperparámetros: {'class_weight': None, 'criterion': 'gini', 'max_depth': 3, 'max_features': 'sqrt', 'min_samples_leaf': 1, 'min_samples_split': 2}\n",
      "Mejor puntaje CV (F1 macro): 0.9617094017094019\n",
      "\n",
      "--- Reporte de Clasificación ---\n",
      "              precision    recall  f1-score   support\n",
      "\n",
      "           1       1.00      1.00      1.00        15\n",
      "           2       0.86      0.80      0.83        15\n",
      "           3       0.81      0.87      0.84        15\n",
      "\n",
      "    accuracy                           0.89        45\n",
      "   macro avg       0.89      0.89      0.89        45\n",
      "weighted avg       0.89      0.89      0.89        45\n",
      "\n",
      "\n",
      "--- Matriz de Confusión ---\n",
      "[[15  0  0]\n",
      " [ 0 12  3]\n",
      " [ 0  2 13]]\n",
      "\n",
      "--- Importancia de variables ---\n",
      "edad         0.534351\n",
      "deudas       0.447039\n",
      "salario      0.011874\n",
      "economias    0.006736\n",
      "dtype: float64\n"
     ]
    }
   ],
   "source": [
    "# Modelo base\n",
    "dt = DecisionTreeClassifier(random_state=42)\n",
    "\n",
    "# Espacio de hiperparámetros para búsqueda\n",
    "param_grid = {\n",
    "    \"criterion\": [\"gini\", \"entropy\"],          # medida de impureza\n",
    "    \"max_depth\": [3, 5, 7, 10, None],          # controlar complejidad/profundidad\n",
    "    \"min_samples_split\": [2, 5, 10, 20],       # mínimo para dividir un nodo\n",
    "    \"min_samples_leaf\": [1, 2, 5, 10],         # mínimo para hoja\n",
    "    \"max_features\": [None, \"sqrt\", \"log2\"],    # cuántas features evaluar por división\n",
    "    \"class_weight\": [None, \"balanced\"]         # útil si hay desbalance de clases\n",
    "}\n",
    "\n",
    "# Búsqueda con validación cruzada\n",
    "grid = GridSearchCV(\n",
    "    dt,\n",
    "    param_grid,\n",
    "    cv=5,                 # CV estratificada\n",
    "    scoring=\"f1_macro\",   # métrica principal (ajústala si necesitas)\n",
    "    n_jobs=-1\n",
    ")\n",
    "grid.fit(X_train, y_train)\n",
    "\n",
    "print(\"Mejores hiperparámetros:\", grid.best_params_)\n",
    "print(\"Mejor puntaje CV (F1 macro):\", grid.best_score_)\n",
    "\n",
    "# Evaluación en el set de TEST con el mejor modelo\n",
    "best_dt = grid.best_estimator_\n",
    "y_pred = best_dt.predict(X_test)\n",
    "\n",
    "print(\"\\n--- Reporte de Clasificación ---\")\n",
    "print(classification_report(y_test, y_pred))\n",
    "\n",
    "print(\"\\n--- Matriz de Confusión ---\")\n",
    "print(confusion_matrix(y_test, y_pred))\n",
    "\n",
    "# Importancia de variables (interpretabilidad)\n",
    "importances = pd.Series(best_dt.feature_importances_, index=X.columns).sort_values(ascending=False)\n",
    "print(\"\\n--- Importancia de variables ---\")\n",
    "print(importances)"
   ]
  },
  {
   "cell_type": "markdown",
   "id": "58dfa894-aa4e-43fa-a8dd-d83eab2df3b2",
   "metadata": {},
   "source": [
    "El modelo KNN funciona ligeramente mejor que el Arbol de Decisión por que tiene mayor accuracy y macro-f1. El arbol de decisión puede ser buena opcion en caso de tener que explicarle a alguna tercera persona."
   ]
  },
  {
   "cell_type": "markdown",
   "id": "e86e6fbc-078f-420b-b066-546ba50ad712",
   "metadata": {},
   "source": [
    "# Aplicación practica"
   ]
  },
  {
   "cell_type": "code",
   "execution_count": 39,
   "id": "d1468392-87c1-4074-86a2-b7a63c36e254",
   "metadata": {},
   "outputs": [
    {
     "name": "stdout",
     "output_type": "stream",
     "text": [
      "Predicción con KNN: 1\n",
      "Predicción con Árbol de Decisión: 1\n"
     ]
    }
   ],
   "source": [
    "\n",
    "# Nuevo cliente\n",
    "nuevo_cliente = pd.DataFrame([{\n",
    "    \"salario\": 5.5,\n",
    "    \"economias\": 3.2,\n",
    "    \"edad\": 2.0,\n",
    "    \"deudas\": 0.3\n",
    "}])\n",
    "\n",
    "# KNN\n",
    "nuevo_cliente_scaled = scaler.transform(nuevo_cliente)\n",
    "pred_knn = best_knn.predict(nuevo_cliente_scaled)\n",
    "\n",
    "# DT\n",
    "pred_dt = best_dt.predict(nuevo_cliente)\n",
    "\n",
    "print(\"Predicción con KNN:\", pred_knn[0])\n",
    "print(\"Predicción con Árbol de Decisión:\", pred_dt[0])"
   ]
  },
  {
   "cell_type": "markdown",
   "id": "83859c9d-9514-4911-963e-cbeb893c5440",
   "metadata": {},
   "source": [
    "# Conclusiones"
   ]
  },
  {
   "cell_type": "markdown",
   "id": "b7bfe4ce-175a-4a98-bdc2-dd0ed0a7b691",
   "metadata": {},
   "source": [
    "El modelo KNN fue elegido finalmente porque alcanzó un desempeño ligeramente superior al Árbol de Decisión tanto en validación cruzada como en el conjunto de prueba, con un F1 macro de 0.91 frente a 0.89, lo que significa que clasifica de manera más equilibrada entre las diferentes clases de planes. Además, presentó mayor precisión en la clase 3 y menos errores globales, lo que lo convierte en la opción más confiable para maximizar la exactitud de las predicciones, aun cuando el Árbol ofrece mejor interpretabilidad. En este caso, la prioridad se dio al rendimiento predictivo, por lo cual KNN resulta ser la mejor alternativa."
   ]
  }
 ],
 "metadata": {
  "kernelspec": {
   "display_name": "Python [conda env:base] *",
   "language": "python",
   "name": "conda-base-py"
  },
  "language_info": {
   "codemirror_mode": {
    "name": "ipython",
    "version": 3
   },
   "file_extension": ".py",
   "mimetype": "text/x-python",
   "name": "python",
   "nbconvert_exporter": "python",
   "pygments_lexer": "ipython3",
   "version": "3.13.5"
  }
 },
 "nbformat": 4,
 "nbformat_minor": 5
}
