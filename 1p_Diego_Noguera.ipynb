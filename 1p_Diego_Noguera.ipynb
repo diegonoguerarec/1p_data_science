{
 "cells": [
  {
   "cell_type": "markdown",
   "id": "0d56950b-f126-44ab-85f8-2b174d4db62e",
   "metadata": {
    "jp-MarkdownHeadingCollapsed": true
   },
   "source": [
    "# Importación de las librerias"
   ]
  },
  {
   "cell_type": "code",
   "execution_count": 119,
   "id": "f378becb-8d5b-456e-8fbb-d0d7c8c91e65",
   "metadata": {},
   "outputs": [],
   "source": [
    "import pandas as pd\n",
    "import numpy as np\n",
    "import matplotlib.pyplot as plt\n",
    "import seaborn as sns\n",
    "from scipy.stats import kstest, norm, ttest_ind, mannwhitneyu"
   ]
  },
  {
   "cell_type": "markdown",
   "id": "64f32724-1bbd-4747-9aca-d9785c2556f8",
   "metadata": {
    "jp-MarkdownHeadingCollapsed": true
   },
   "source": [
    "# Leer los datos"
   ]
  },
  {
   "cell_type": "code",
   "execution_count": 72,
   "id": "9004e917-a5d0-4e28-9780-2c3802f3d237",
   "metadata": {},
   "outputs": [
    {
     "name": "stderr",
     "output_type": "stream",
     "text": [
      "/tmp/ipykernel_12036/3740968167.py:1: DtypeWarning: Columns (197,199,202,206,207,208,209,210,211) have mixed types. Specify dtype option on import or set low_memory=False.\n",
      "  datos = pd.read_csv(\"REG02_EPHC_ANUAL_2024.csv\", sep=\";\")\n"
     ]
    }
   ],
   "source": [
    "datos = pd.read_csv(\"REG02_EPHC_ANUAL_2024.csv\", sep=\";\")"
   ]
  },
  {
   "cell_type": "code",
   "execution_count": 73,
   "id": "a399be35-70f4-4dff-8823-135d55a9dc8c",
   "metadata": {},
   "outputs": [
    {
     "data": {
      "text/html": [
       "<div>\n",
       "<style scoped>\n",
       "    .dataframe tbody tr th:only-of-type {\n",
       "        vertical-align: middle;\n",
       "    }\n",
       "\n",
       "    .dataframe tbody tr th {\n",
       "        vertical-align: top;\n",
       "    }\n",
       "\n",
       "    .dataframe thead th {\n",
       "        text-align: right;\n",
       "    }\n",
       "</style>\n",
       "<table border=\"1\" class=\"dataframe\">\n",
       "  <thead>\n",
       "    <tr style=\"text-align: right;\">\n",
       "      <th></th>\n",
       "      <th>UPM</th>\n",
       "      <th>NVIVI</th>\n",
       "      <th>NHOGA</th>\n",
       "      <th>AÑO</th>\n",
       "      <th>DPTO</th>\n",
       "      <th>AREA</th>\n",
       "      <th>L02</th>\n",
       "      <th>P02</th>\n",
       "      <th>P03</th>\n",
       "      <th>P04</th>\n",
       "      <th>...</th>\n",
       "      <th>ingrevasode</th>\n",
       "      <th>ingrealmuerzode</th>\n",
       "      <th>ipcm</th>\n",
       "      <th>pobrezai</th>\n",
       "      <th>pobnopoi</th>\n",
       "      <th>quintili</th>\n",
       "      <th>decili</th>\n",
       "      <th>quintiai</th>\n",
       "      <th>decilai</th>\n",
       "      <th>informalidad</th>\n",
       "    </tr>\n",
       "  </thead>\n",
       "  <tbody>\n",
       "    <tr>\n",
       "      <th>0</th>\n",
       "      <td>14</td>\n",
       "      <td>3</td>\n",
       "      <td>1</td>\n",
       "      <td>2024</td>\n",
       "      <td>0</td>\n",
       "      <td>1</td>\n",
       "      <td>2</td>\n",
       "      <td>40</td>\n",
       "      <td>1</td>\n",
       "      <td>1</td>\n",
       "      <td>...</td>\n",
       "      <td>0</td>\n",
       "      <td>0</td>\n",
       "      <td>4035459,49658286</td>\n",
       "      <td>3</td>\n",
       "      <td>0</td>\n",
       "      <td>5</td>\n",
       "      <td>10</td>\n",
       "      <td>5</td>\n",
       "      <td>9</td>\n",
       "      <td>2</td>\n",
       "    </tr>\n",
       "    <tr>\n",
       "      <th>1</th>\n",
       "      <td>14</td>\n",
       "      <td>3</td>\n",
       "      <td>1</td>\n",
       "      <td>2024</td>\n",
       "      <td>0</td>\n",
       "      <td>1</td>\n",
       "      <td>6</td>\n",
       "      <td>38</td>\n",
       "      <td>2</td>\n",
       "      <td>1</td>\n",
       "      <td>...</td>\n",
       "      <td>0</td>\n",
       "      <td>0</td>\n",
       "      <td>4035459,49658286</td>\n",
       "      <td>3</td>\n",
       "      <td>0</td>\n",
       "      <td>5</td>\n",
       "      <td>10</td>\n",
       "      <td>5</td>\n",
       "      <td>9</td>\n",
       "      <td>1</td>\n",
       "    </tr>\n",
       "    <tr>\n",
       "      <th>2</th>\n",
       "      <td>14</td>\n",
       "      <td>15</td>\n",
       "      <td>1</td>\n",
       "      <td>2024</td>\n",
       "      <td>0</td>\n",
       "      <td>1</td>\n",
       "      <td>1</td>\n",
       "      <td>78</td>\n",
       "      <td>1</td>\n",
       "      <td>1</td>\n",
       "      <td>...</td>\n",
       "      <td>0</td>\n",
       "      <td>0</td>\n",
       "      <td>1782061,06870229</td>\n",
       "      <td>3</td>\n",
       "      <td>0</td>\n",
       "      <td>4</td>\n",
       "      <td>7</td>\n",
       "      <td>3</td>\n",
       "      <td>6</td>\n",
       "      <td></td>\n",
       "    </tr>\n",
       "    <tr>\n",
       "      <th>3</th>\n",
       "      <td>14</td>\n",
       "      <td>15</td>\n",
       "      <td>1</td>\n",
       "      <td>2024</td>\n",
       "      <td>0</td>\n",
       "      <td>1</td>\n",
       "      <td>2</td>\n",
       "      <td>77</td>\n",
       "      <td>2</td>\n",
       "      <td>1</td>\n",
       "      <td>...</td>\n",
       "      <td>0</td>\n",
       "      <td>0</td>\n",
       "      <td>1782061,06870229</td>\n",
       "      <td>3</td>\n",
       "      <td>0</td>\n",
       "      <td>4</td>\n",
       "      <td>7</td>\n",
       "      <td>3</td>\n",
       "      <td>6</td>\n",
       "      <td></td>\n",
       "    </tr>\n",
       "    <tr>\n",
       "      <th>4</th>\n",
       "      <td>14</td>\n",
       "      <td>23</td>\n",
       "      <td>1</td>\n",
       "      <td>2024</td>\n",
       "      <td>0</td>\n",
       "      <td>1</td>\n",
       "      <td>1</td>\n",
       "      <td>32</td>\n",
       "      <td>1</td>\n",
       "      <td>1</td>\n",
       "      <td>...</td>\n",
       "      <td>0</td>\n",
       "      <td>0</td>\n",
       "      <td>5931717,5572519</td>\n",
       "      <td>3</td>\n",
       "      <td>0</td>\n",
       "      <td>5</td>\n",
       "      <td>10</td>\n",
       "      <td>5</td>\n",
       "      <td>10</td>\n",
       "      <td>1</td>\n",
       "    </tr>\n",
       "  </tbody>\n",
       "</table>\n",
       "<p>5 rows × 213 columns</p>\n",
       "</div>"
      ],
      "text/plain": [
       "   UPM  NVIVI  NHOGA   AÑO  DPTO  AREA  L02  P02  P03  P04  ...  ingrevasode  \\\n",
       "0   14      3      1  2024     0     1    2   40    1    1  ...            0   \n",
       "1   14      3      1  2024     0     1    6   38    2    1  ...            0   \n",
       "2   14     15      1  2024     0     1    1   78    1    1  ...            0   \n",
       "3   14     15      1  2024     0     1    2   77    2    1  ...            0   \n",
       "4   14     23      1  2024     0     1    1   32    1    1  ...            0   \n",
       "\n",
       "  ingrealmuerzode              ipcm  pobrezai  pobnopoi  quintili  decili  \\\n",
       "0               0  4035459,49658286         3         0         5      10   \n",
       "1               0  4035459,49658286         3         0         5      10   \n",
       "2               0  1782061,06870229         3         0         4       7   \n",
       "3               0  1782061,06870229         3         0         4       7   \n",
       "4               0   5931717,5572519         3         0         5      10   \n",
       "\n",
       "   quintiai  decilai  informalidad  \n",
       "0         5        9             2  \n",
       "1         5        9             1  \n",
       "2         3        6                \n",
       "3         3        6                \n",
       "4         5       10             1  \n",
       "\n",
       "[5 rows x 213 columns]"
      ]
     },
     "execution_count": 73,
     "metadata": {},
     "output_type": "execute_result"
    }
   ],
   "source": [
    "datos.head()"
   ]
  },
  {
   "cell_type": "code",
   "execution_count": 74,
   "id": "c78e3444-ed2e-4c30-ba51-db7bfab87e03",
   "metadata": {},
   "outputs": [
    {
     "name": "stdout",
     "output_type": "stream",
     "text": [
      "<class 'pandas.core.frame.DataFrame'>\n",
      "RangeIndex: 57744 entries, 0 to 57743\n",
      "Columns: 213 entries, UPM to informalidad\n",
      "dtypes: int64(25), object(188)\n",
      "memory usage: 93.8+ MB\n"
     ]
    }
   ],
   "source": [
    "datos.info()"
   ]
  },
  {
   "cell_type": "markdown",
   "id": "c379e0a2-8e02-41cd-89e6-1dbf0b42a321",
   "metadata": {
    "jp-MarkdownHeadingCollapsed": true
   },
   "source": [
    "# Filtrado de datos"
   ]
  },
  {
   "cell_type": "markdown",
   "id": "1f5d7254-2658-4684-a1b4-e33652a12a04",
   "metadata": {},
   "source": [
    "Para el analisis voy a utilizar solo las siguientes columnas\n",
    "\n",
    "- P06: Sexo\n",
    "  - 1: Hombre\n",
    "  - 6: Mujer\n",
    "- P02: Edad\n",
    "- PEAA: Ocupación\n",
    "  - 1: Ocupado\n",
    "  - 2: Desocupado\n",
    "  - 3: Inactivo\n",
    "- E01A: Ingreso mensual Ocupación principal declarado"
   ]
  },
  {
   "cell_type": "code",
   "execution_count": 75,
   "id": "f0edb6a7-12fb-4615-b4cb-4bce385fd797",
   "metadata": {},
   "outputs": [],
   "source": [
    "# Dataframe con solo las columnas necesarias\n",
    "datos_filtrados = datos[[\"P06\", \"P02\", \"PEAA\", \"E01A\"]]"
   ]
  },
  {
   "cell_type": "code",
   "execution_count": 76,
   "id": "805e6851-406d-4351-8663-6069656849de",
   "metadata": {},
   "outputs": [
    {
     "data": {
      "text/html": [
       "<div>\n",
       "<style scoped>\n",
       "    .dataframe tbody tr th:only-of-type {\n",
       "        vertical-align: middle;\n",
       "    }\n",
       "\n",
       "    .dataframe tbody tr th {\n",
       "        vertical-align: top;\n",
       "    }\n",
       "\n",
       "    .dataframe thead th {\n",
       "        text-align: right;\n",
       "    }\n",
       "</style>\n",
       "<table border=\"1\" class=\"dataframe\">\n",
       "  <thead>\n",
       "    <tr style=\"text-align: right;\">\n",
       "      <th></th>\n",
       "      <th>P06</th>\n",
       "      <th>P02</th>\n",
       "      <th>PEAA</th>\n",
       "      <th>E01A</th>\n",
       "    </tr>\n",
       "  </thead>\n",
       "  <tbody>\n",
       "    <tr>\n",
       "      <th>0</th>\n",
       "      <td>1</td>\n",
       "      <td>40</td>\n",
       "      <td>1</td>\n",
       "      <td>3220000</td>\n",
       "    </tr>\n",
       "    <tr>\n",
       "      <th>1</th>\n",
       "      <td>6</td>\n",
       "      <td>38</td>\n",
       "      <td>1</td>\n",
       "      <td>3730373</td>\n",
       "    </tr>\n",
       "    <tr>\n",
       "      <th>2</th>\n",
       "      <td>1</td>\n",
       "      <td>78</td>\n",
       "      <td>3</td>\n",
       "      <td>0</td>\n",
       "    </tr>\n",
       "    <tr>\n",
       "      <th>3</th>\n",
       "      <td>6</td>\n",
       "      <td>77</td>\n",
       "      <td>3</td>\n",
       "      <td>0</td>\n",
       "    </tr>\n",
       "    <tr>\n",
       "      <th>4</th>\n",
       "      <td>1</td>\n",
       "      <td>32</td>\n",
       "      <td>1</td>\n",
       "      <td>5500000</td>\n",
       "    </tr>\n",
       "  </tbody>\n",
       "</table>\n",
       "</div>"
      ],
      "text/plain": [
       "   P06  P02 PEAA     E01A\n",
       "0    1   40    1  3220000\n",
       "1    6   38    1  3730373\n",
       "2    1   78    3        0\n",
       "3    6   77    3        0\n",
       "4    1   32    1  5500000"
      ]
     },
     "execution_count": 76,
     "metadata": {},
     "output_type": "execute_result"
    }
   ],
   "source": [
    "datos_filtrados.head()"
   ]
  },
  {
   "cell_type": "code",
   "execution_count": 77,
   "id": "c1e3aed9-3ec1-4a4b-a1a9-b629ed6a88f7",
   "metadata": {},
   "outputs": [
    {
     "data": {
      "text/plain": [
       "(57744, 4)"
      ]
     },
     "execution_count": 77,
     "metadata": {},
     "output_type": "execute_result"
    }
   ],
   "source": [
    "datos_filtrados.shape"
   ]
  },
  {
   "cell_type": "code",
   "execution_count": 78,
   "id": "603fe048-404c-49d7-9bf1-ebad8c7f42b4",
   "metadata": {},
   "outputs": [
    {
     "name": "stdout",
     "output_type": "stream",
     "text": [
      "<class 'pandas.core.frame.DataFrame'>\n",
      "RangeIndex: 57744 entries, 0 to 57743\n",
      "Data columns (total 4 columns):\n",
      " #   Column  Non-Null Count  Dtype \n",
      "---  ------  --------------  ----- \n",
      " 0   P06     57744 non-null  int64 \n",
      " 1   P02     57744 non-null  int64 \n",
      " 2   PEAA    57744 non-null  object\n",
      " 3   E01A    57744 non-null  object\n",
      "dtypes: int64(2), object(2)\n",
      "memory usage: 1.8+ MB\n"
     ]
    }
   ],
   "source": [
    "datos_filtrados.info()"
   ]
  },
  {
   "cell_type": "markdown",
   "id": "15f85fb9-ad6a-4a51-adfc-71f6a6f54a1f",
   "metadata": {},
   "source": [
    "## Trabajo sobre los datos"
   ]
  },
  {
   "cell_type": "code",
   "execution_count": 79,
   "id": "cfe84a20-a897-446e-b94c-ee21159bf49f",
   "metadata": {},
   "outputs": [],
   "source": [
    "# Renombrar las columnas\n",
    "datos_filtrados.columns = [\"Sexo\", \"Edad\", \"Ocupacion\", \"Ingreso\"]"
   ]
  },
  {
   "cell_type": "code",
   "execution_count": 80,
   "id": "f9fd296a-cd21-46bf-b634-03654bceab78",
   "metadata": {},
   "outputs": [
    {
     "name": "stderr",
     "output_type": "stream",
     "text": [
      "/tmp/ipykernel_12036/857654796.py:4: SettingWithCopyWarning: \n",
      "A value is trying to be set on a copy of a slice from a DataFrame.\n",
      "Try using .loc[row_indexer,col_indexer] = value instead\n",
      "\n",
      "See the caveats in the documentation: https://pandas.pydata.org/pandas-docs/stable/user_guide/indexing.html#returning-a-view-versus-a-copy\n",
      "  datos_filtrados[\"Ocupacion\"] = datos_filtrados[\"Ocupacion\"].replace(\" \", np.nan)\n",
      "/tmp/ipykernel_12036/857654796.py:7: SettingWithCopyWarning: \n",
      "A value is trying to be set on a copy of a slice from a DataFrame.\n",
      "Try using .loc[row_indexer,col_indexer] = value instead\n",
      "\n",
      "See the caveats in the documentation: https://pandas.pydata.org/pandas-docs/stable/user_guide/indexing.html#returning-a-view-versus-a-copy\n",
      "  datos_filtrados[\"Ocupacion\"] = pd.to_numeric(datos_filtrados[\"Ocupacion\"], errors=\"coerce\")\n"
     ]
    }
   ],
   "source": [
    "# Convertir la columna Ocupacion a int64\n",
    "\n",
    "# Reemplazar el ' ' por NaN\n",
    "datos_filtrados[\"Ocupacion\"] = datos_filtrados[\"Ocupacion\"].replace(\" \", np.nan)\n",
    "\n",
    "# Convertir a número\n",
    "datos_filtrados[\"Ocupacion\"] = pd.to_numeric(datos_filtrados[\"Ocupacion\"], errors=\"coerce\")\n",
    "\n",
    "# Eliminar filas con NaN en Ocupacion\n",
    "datos_filtrados = datos_filtrados.dropna(subset=[\"Ocupacion\"])\n",
    "\n",
    "# Pasar de float64 a int64\n",
    "datos_filtrados[\"Ocupacion\"] = datos_filtrados[\"Ocupacion\"].astype(\"int64\")"
   ]
  },
  {
   "cell_type": "code",
   "execution_count": 82,
   "id": "d995a701-921a-4724-9a59-695d2034bb9f",
   "metadata": {},
   "outputs": [],
   "source": [
    "# Seleccionar solo las personas ocupadas, es decir, Ocupacion = 1\n",
    "datos_filtrados = datos_filtrados[datos_filtrados[\"Ocupacion\"] == 1]"
   ]
  },
  {
   "cell_type": "code",
   "execution_count": 83,
   "id": "55fac3c5-5ab6-4f01-afec-a84ed1e326ce",
   "metadata": {},
   "outputs": [
    {
     "data": {
      "text/plain": [
       "array([1])"
      ]
     },
     "execution_count": 83,
     "metadata": {},
     "output_type": "execute_result"
    }
   ],
   "source": [
    "# Ahora solo hay personas ocupas\n",
    "datos_filtrados[\"Ocupacion\"].unique()"
   ]
  },
  {
   "cell_type": "code",
   "execution_count": 84,
   "id": "d2be60a1-be8c-4beb-90a0-e21845ce5575",
   "metadata": {},
   "outputs": [],
   "source": [
    "# Convertir Ingreso a int64\n",
    "datos_filtrados[\"Ingreso\"] = datos_filtrados[\"Ingreso\"].astype(\"int64\")"
   ]
  },
  {
   "cell_type": "code",
   "execution_count": 87,
   "id": "10dc49e2-b651-40f2-9efa-085c0636ba9c",
   "metadata": {},
   "outputs": [
    {
     "name": "stdout",
     "output_type": "stream",
     "text": [
      "<class 'pandas.core.frame.DataFrame'>\n",
      "Index: 29079 entries, 0 to 57743\n",
      "Data columns (total 4 columns):\n",
      " #   Column     Non-Null Count  Dtype\n",
      "---  ------     --------------  -----\n",
      " 0   Sexo       29079 non-null  int64\n",
      " 1   Edad       29079 non-null  int64\n",
      " 2   Ocupacion  29079 non-null  int64\n",
      " 3   Ingreso    29079 non-null  int64\n",
      "dtypes: int64(4)\n",
      "memory usage: 1.1 MB\n"
     ]
    }
   ],
   "source": [
    "datos_filtrados.info()"
   ]
  },
  {
   "cell_type": "code",
   "execution_count": 92,
   "id": "a533ac9e-2e0e-4257-a519-eb310e04d76e",
   "metadata": {},
   "outputs": [],
   "source": [
    "# Eliminar filas donde Ingreso == 99999999999\n",
    "datos_filtrados = datos_filtrados[datos_filtrados[\"Ingreso\"] != 99999999999]"
   ]
  },
  {
   "cell_type": "markdown",
   "id": "441a9fa7-02ff-4b9e-b3fc-4c638e1c9a2e",
   "metadata": {},
   "source": [
    "# Analisis"
   ]
  },
  {
   "cell_type": "markdown",
   "id": "c9188ef2-9488-484c-a070-699833cfda7a",
   "metadata": {
    "jp-MarkdownHeadingCollapsed": true
   },
   "source": [
    "## Algunos datos estadisticos básicos\n",
    "\n",
    "La edad media de todas las personas que analizaremos es de 40 años.\n",
    "\n",
    "El ingreso medio de todas las personas que analizaremos es de 2.325.853 Guaranies."
   ]
  },
  {
   "cell_type": "code",
   "execution_count": 107,
   "id": "adf1beb9-d047-44db-8298-9eb1d16d1cd7",
   "metadata": {},
   "outputs": [
    {
     "data": {
      "text/html": [
       "<div>\n",
       "<style scoped>\n",
       "    .dataframe tbody tr th:only-of-type {\n",
       "        vertical-align: middle;\n",
       "    }\n",
       "\n",
       "    .dataframe tbody tr th {\n",
       "        vertical-align: top;\n",
       "    }\n",
       "\n",
       "    .dataframe thead th {\n",
       "        text-align: right;\n",
       "    }\n",
       "</style>\n",
       "<table border=\"1\" class=\"dataframe\">\n",
       "  <thead>\n",
       "    <tr style=\"text-align: right;\">\n",
       "      <th></th>\n",
       "      <th>Sexo</th>\n",
       "      <th>Edad</th>\n",
       "      <th>Ocupacion</th>\n",
       "      <th>Ingreso</th>\n",
       "    </tr>\n",
       "  </thead>\n",
       "  <tbody>\n",
       "    <tr>\n",
       "      <th>count</th>\n",
       "      <td>28467.000000</td>\n",
       "      <td>28467.000000</td>\n",
       "      <td>28467.0</td>\n",
       "      <td>2.846700e+04</td>\n",
       "    </tr>\n",
       "    <tr>\n",
       "      <th>mean</th>\n",
       "      <td>3.100854</td>\n",
       "      <td>40.424492</td>\n",
       "      <td>1.0</td>\n",
       "      <td>2.325835e+06</td>\n",
       "    </tr>\n",
       "    <tr>\n",
       "      <th>std</th>\n",
       "      <td>2.467974</td>\n",
       "      <td>15.302239</td>\n",
       "      <td>0.0</td>\n",
       "      <td>2.773432e+06</td>\n",
       "    </tr>\n",
       "    <tr>\n",
       "      <th>min</th>\n",
       "      <td>1.000000</td>\n",
       "      <td>10.000000</td>\n",
       "      <td>1.0</td>\n",
       "      <td>0.000000e+00</td>\n",
       "    </tr>\n",
       "    <tr>\n",
       "      <th>25%</th>\n",
       "      <td>1.000000</td>\n",
       "      <td>28.000000</td>\n",
       "      <td>1.0</td>\n",
       "      <td>5.000000e+05</td>\n",
       "    </tr>\n",
       "    <tr>\n",
       "      <th>50%</th>\n",
       "      <td>1.000000</td>\n",
       "      <td>39.000000</td>\n",
       "      <td>1.0</td>\n",
       "      <td>2.000000e+06</td>\n",
       "    </tr>\n",
       "    <tr>\n",
       "      <th>75%</th>\n",
       "      <td>6.000000</td>\n",
       "      <td>52.000000</td>\n",
       "      <td>1.0</td>\n",
       "      <td>3.000000e+06</td>\n",
       "    </tr>\n",
       "    <tr>\n",
       "      <th>max</th>\n",
       "      <td>6.000000</td>\n",
       "      <td>94.000000</td>\n",
       "      <td>1.0</td>\n",
       "      <td>6.000000e+07</td>\n",
       "    </tr>\n",
       "  </tbody>\n",
       "</table>\n",
       "</div>"
      ],
      "text/plain": [
       "               Sexo          Edad  Ocupacion       Ingreso\n",
       "count  28467.000000  28467.000000    28467.0  2.846700e+04\n",
       "mean       3.100854     40.424492        1.0  2.325835e+06\n",
       "std        2.467974     15.302239        0.0  2.773432e+06\n",
       "min        1.000000     10.000000        1.0  0.000000e+00\n",
       "25%        1.000000     28.000000        1.0  5.000000e+05\n",
       "50%        1.000000     39.000000        1.0  2.000000e+06\n",
       "75%        6.000000     52.000000        1.0  3.000000e+06\n",
       "max        6.000000     94.000000        1.0  6.000000e+07"
      ]
     },
     "execution_count": 107,
     "metadata": {},
     "output_type": "execute_result"
    }
   ],
   "source": [
    "datos_filtrados.describe()"
   ]
  },
  {
   "cell_type": "markdown",
   "id": "c3be2a58-5f3e-41f5-a4f4-c18877446367",
   "metadata": {},
   "source": [
    "## Comparación ingreso promedio por Sexo\n",
    "\n",
    "En sexo el código es 1: Hombre, 6: Mujer\n",
    "\n",
    "El promedio de ingreso de los hombres es: 2.500.173 Guaranies.\n",
    "\n",
    "El promedio de ingreso de las mujeres es: 2.085.251 Guaranies."
   ]
  },
  {
   "cell_type": "code",
   "execution_count": 115,
   "id": "a4a8231d-0979-461c-9142-2fa677ed288d",
   "metadata": {},
   "outputs": [
    {
     "name": "stdout",
     "output_type": "stream",
     "text": [
      "Sexo\n",
      "1    2.500173e+06\n",
      "6    2.085251e+06\n",
      "Name: Ingreso, dtype: float64\n"
     ]
    }
   ],
   "source": [
    "# Promedio de ingreso por sexo\n",
    "promedios = datos_filtrados.groupby(\"Sexo\")[\"Ingreso\"].mean()\n",
    "print(promedios)"
   ]
  },
  {
   "cell_type": "code",
   "execution_count": 116,
   "id": "5c728dfd-5465-46db-9638-d97f4f1a8913",
   "metadata": {},
   "outputs": [
    {
     "data": {
      "image/png": "[encoded data removed]",
      "text/plain": [
       "<Figure size 640x480 with 1 Axes>"
      ]
     },
     "metadata": {},
     "output_type": "display_data"
    }
   ],
   "source": [
    "# Gráfico de barras\n",
    "promedios.plot(kind=\"bar\", color=[\"steelblue\", \"salmon\"])\n",
    "plt.title(\"Ingreso promedio mensual por sexo\")\n",
    "plt.xlabel(\"Sexo (1=Hombre, 6=Mujer)\")\n",
    "plt.ylabel(\"Ingreso promedio (Gs.)\")\n",
    "plt.xticks(rotation=0)  # deja las etiquetas horizontales\n",
    "plt.show()"
   ]
  },
  {
   "cell_type": "code",
   "execution_count": 112,
   "id": "dcd6c4ba-10d9-4f34-813e-d816c7b04202",
   "metadata": {},
   "outputs": [
    {
     "data": {
      "image/png": "[encoded data removed]",
      "text/plain": [
       "<Figure size 640x480 with 1 Axes>"
      ]
     },
     "metadata": {},
     "output_type": "display_data"
    },
    {
     "data": {
      "image/png": "[encoded data removed]",
      "text/plain": [
       "<Figure size 640x480 with 1 Axes>"
      ]
     },
     "metadata": {},
     "output_type": "display_data"
    }
   ],
   "source": [
    "# Histograma con colores por sexo\n",
    "sns.histplot(data=datos_filtrados, x=\"Ingreso\", hue=\"Sexo\", bins=30, kde=True)\n",
    "plt.title(\"Distribución de ingresos por sexo\")\n",
    "plt.xlabel(\"Ingreso mensual (Gs.)\")\n",
    "plt.ylabel(\"Frecuencia\")\n",
    "plt.show()\n",
    "\n",
    "# Boxplot comparativo\n",
    "sns.boxplot(data=datos_filtrados, x=\"Sexo\", y=\"Ingreso\")\n",
    "plt.title(\"Ingresos por sexo (Boxplot)\")\n",
    "plt.xlabel(\"Sexo (1=Hombre, 6=Mujer)\")\n",
    "plt.ylabel(\"Ingreso mensual (Gs.)\")\n",
    "plt.show()"
   ]
  },
  {
   "cell_type": "markdown",
   "id": "97b12d99-5937-4829-a45d-0376487a28ee",
   "metadata": {},
   "source": [
    "Aca se puede ver como en promedio los hombres ganan mas que las mujeres. Aunque en el gráfico de bloxplot se observan valores atipicos mas altos para las mujeres."
   ]
  },
  {
   "cell_type": "markdown",
   "id": "320c759c-faae-489b-8b8a-0728ee63f53f",
   "metadata": {},
   "source": [
    "## Contrastar hipotesis"
   ]
  },
  {
   "cell_type": "markdown",
   "id": "6cf65e23-0a42-464b-bb81-7b8d3e917123",
   "metadata": {},
   "source": [
    "Podemos aplicar una prueba paramétrica (T-Student) o no paramétrica (Mann-Whitney U) si los datos no son normales.\n",
    "\n",
    "A simple vista en el gráfico de distribución de ingresos por sexo ya se puede ver que no siguen una distribución normal. De todos modos para comprobarlo analiticamente vamos a hacer la prueba de Kolmogorov Smirnov"
   ]
  },
  {
   "cell_type": "code",
   "execution_count": 121,
   "id": "eb6dd18a-abfa-436b-a321-3d16650c299d",
   "metadata": {},
   "outputs": [
    {
     "name": "stdout",
     "output_type": "stream",
     "text": [
      "Kolmogorov-Smirnov hombres: 0.0\n",
      "Kolmogorov-Smirnov mujeres: 0.0\n"
     ]
    }
   ],
   "source": [
    "# Separar hombres y mujeres\n",
    "hombres = datos_filtrados[datos_filtrados[\"Sexo\"] == 1][\"Ingreso\"]\n",
    "mujeres = datos_filtrados[datos_filtrados[\"Sexo\"] == 6][\"Ingreso\"]\n",
    "\n",
    "# --- 1. Test de normalidad Kolmogorov-Smirnov ---\n",
    "# Normalizamos cada grupo (media=0, desvío=1) para comparar contra N(0,1)\n",
    "def ks_normalidad(serie):\n",
    "    serie = (serie - serie.mean()) / serie.std(ddof=0)\n",
    "    return kstest(serie, \"norm\")\n",
    "\n",
    "ks_hombres = ks_normalidad(hombres)\n",
    "ks_mujeres = ks_normalidad(mujeres)\n",
    "\n",
    "print(\"Kolmogorov-Smirnov hombres:\", ks_hombres.pvalue)\n",
    "print(\"Kolmogorov-Smirnov mujeres:\", ks_mujeres.pvalue)"
   ]
  },
  {
   "cell_type": "markdown",
   "id": "46681354-8508-489f-8c09-e55384c0e084",
   "metadata": {},
   "source": [
    "Ambos pvalues salieron 0 < 0.05. Lo que demuestra analiticamente que no es una distribucion normal.\n",
    "\n",
    "Entonces debemos aplicar el test Mann-Whithney U."
   ]
  },
  {
   "cell_type": "code",
   "execution_count": 123,
   "id": "7b8722c0-c4c5-40aa-80d5-d727d5f53629",
   "metadata": {},
   "outputs": [
    {
     "name": "stdout",
     "output_type": "stream",
     "text": [
      "U = 109719508.5 p = 1.3619915489850995e-58\n"
     ]
    }
   ],
   "source": [
    "u_stat, p_val = mannwhitneyu(hombres, mujeres, alternative=\"two-sided\")\n",
    "print(\"U =\", u_stat, \"p =\", p_val)"
   ]
  },
  {
   "cell_type": "markdown",
   "id": "d920f99d-fd3e-427d-9138-58c48dadbce4",
   "metadata": {},
   "source": [
    "Para alpha = 0.05.\n",
    "\n",
    "Si p < alpha se rechaza H0.\n",
    "\n",
    "Si p > alpha no se rechaza H0.\n",
    "\n",
    "En este caso p < alpha, por lo que se rechaza H0. Si hay diferencias significativas entre ingresos de hombres y mujeres."
   ]
  },
  {
   "cell_type": "markdown",
   "id": "0f9e2ee7-2c92-48f9-9c34-49165e500a7c",
   "metadata": {},
   "source": [
    "# Conclusión"
   ]
  },
  {
   "cell_type": "markdown",
   "id": "f5862107-739c-4b0d-80a2-40bc9afc1ab9",
   "metadata": {},
   "source": [
    "Si hay una diferencia significativa entre ingresos de hombres y mujeres."
   ]
  }
 ],
 "metadata": {
  "kernelspec": {
   "display_name": "Python [conda env:base] *",
   "language": "python",
   "name": "conda-base-py"
  },
  "language_info": {
   "codemirror_mode": {
    "name": "ipython",
    "version": 3
   },
   "file_extension": ".py",
   "mimetype": "text/x-python",
   "name": "python",
   "nbconvert_exporter": "python",
   "pygments_lexer": "ipython3",
   "version": "3.13.5"
  }
 },
 "nbformat": 4,
 "nbformat_minor": 5
}
