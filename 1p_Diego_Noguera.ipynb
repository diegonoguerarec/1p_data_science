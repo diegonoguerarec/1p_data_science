{
 "cells": [
  {
   "cell_type": "markdown",
   "id": "0d56950b-f126-44ab-85f8-2b174d4db62e",
   "metadata": {
    "jp-MarkdownHeadingCollapsed": true
   },
   "source": [
    "# Importación de las librerias"
   ]
  },
  {
   "cell_type": "code",
   "execution_count": 71,
   "id": "f378becb-8d5b-456e-8fbb-d0d7c8c91e65",
   "metadata": {},
   "outputs": [],
   "source": [
    "import pandas as pd\n",
    "import numpy as np"
   ]
  },
  {
   "cell_type": "markdown",
   "id": "64f32724-1bbd-4747-9aca-d9785c2556f8",
   "metadata": {
    "jp-MarkdownHeadingCollapsed": true
   },
   "source": [
    "# Leer los datos"
   ]
  },
  {
   "cell_type": "code",
   "execution_count": 72,
   "id": "9004e917-a5d0-4e28-9780-2c3802f3d237",
   "metadata": {},
   "outputs": [
    {
     "name": "stderr",
     "output_type": "stream",
     "text": [
      "/tmp/ipykernel_12036/3740968167.py:1: DtypeWarning: Columns (197,199,202,206,207,208,209,210,211) have mixed types. Specify dtype option on import or set low_memory=False.\n",
      "  datos = pd.read_csv(\"REG02_EPHC_ANUAL_2024.csv\", sep=\";\")\n"
     ]
    }
   ],
   "source": [
    "datos = pd.read_csv(\"REG02_EPHC_ANUAL_2024.csv\", sep=\";\")"
   ]
  },
  {
   "cell_type": "code",
   "execution_count": 73,
   "id": "a399be35-70f4-4dff-8823-135d55a9dc8c",
   "metadata": {},
   "outputs": [
    {
     "data": {
      "text/html": [
       "<div>\n",
       "<style scoped>\n",
       "    .dataframe tbody tr th:only-of-type {\n",
       "        vertical-align: middle;\n",
       "    }\n",
       "\n",
       "    .dataframe tbody tr th {\n",
       "        vertical-align: top;\n",
       "    }\n",
       "\n",
       "    .dataframe thead th {\n",
       "        text-align: right;\n",
       "    }\n",
       "</style>\n",
       "<table border=\"1\" class=\"dataframe\">\n",
       "  <thead>\n",
       "    <tr style=\"text-align: right;\">\n",
       "      <th></th>\n",
       "      <th>UPM</th>\n",
       "      <th>NVIVI</th>\n",
       "      <th>NHOGA</th>\n",
       "      <th>AÑO</th>\n",
       "      <th>DPTO</th>\n",
       "      <th>AREA</th>\n",
       "      <th>L02</th>\n",
       "      <th>P02</th>\n",
       "      <th>P03</th>\n",
       "      <th>P04</th>\n",
       "      <th>...</th>\n",
       "      <th>ingrevasode</th>\n",
       "      <th>ingrealmuerzode</th>\n",
       "      <th>ipcm</th>\n",
       "      <th>pobrezai</th>\n",
       "      <th>pobnopoi</th>\n",
       "      <th>quintili</th>\n",
       "      <th>decili</th>\n",
       "      <th>quintiai</th>\n",
       "      <th>decilai</th>\n",
       "      <th>informalidad</th>\n",
       "    </tr>\n",
       "  </thead>\n",
       "  <tbody>\n",
       "    <tr>\n",
       "      <th>0</th>\n",
       "      <td>14</td>\n",
       "      <td>3</td>\n",
       "      <td>1</td>\n",
       "      <td>2024</td>\n",
       "      <td>0</td>\n",
       "      <td>1</td>\n",
       "      <td>2</td>\n",
       "      <td>40</td>\n",
       "      <td>1</td>\n",
       "      <td>1</td>\n",
       "      <td>...</td>\n",
       "      <td>0</td>\n",
       "      <td>0</td>\n",
       "      <td>4035459,49658286</td>\n",
       "      <td>3</td>\n",
       "      <td>0</td>\n",
       "      <td>5</td>\n",
       "      <td>10</td>\n",
       "      <td>5</td>\n",
       "      <td>9</td>\n",
       "      <td>2</td>\n",
       "    </tr>\n",
       "    <tr>\n",
       "      <th>1</th>\n",
       "      <td>14</td>\n",
       "      <td>3</td>\n",
       "      <td>1</td>\n",
       "      <td>2024</td>\n",
       "      <td>0</td>\n",
       "      <td>1</td>\n",
       "      <td>6</td>\n",
       "      <td>38</td>\n",
       "      <td>2</td>\n",
       "      <td>1</td>\n",
       "      <td>...</td>\n",
       "      <td>0</td>\n",
       "      <td>0</td>\n",
       "      <td>4035459,49658286</td>\n",
       "      <td>3</td>\n",
       "      <td>0</td>\n",
       "      <td>5</td>\n",
       "      <td>10</td>\n",
       "      <td>5</td>\n",
       "      <td>9</td>\n",
       "      <td>1</td>\n",
       "    </tr>\n",
       "    <tr>\n",
       "      <th>2</th>\n",
       "      <td>14</td>\n",
       "      <td>15</td>\n",
       "      <td>1</td>\n",
       "      <td>2024</td>\n",
       "      <td>0</td>\n",
       "      <td>1</td>\n",
       "      <td>1</td>\n",
       "      <td>78</td>\n",
       "      <td>1</td>\n",
       "      <td>1</td>\n",
       "      <td>...</td>\n",
       "      <td>0</td>\n",
       "      <td>0</td>\n",
       "      <td>1782061,06870229</td>\n",
       "      <td>3</td>\n",
       "      <td>0</td>\n",
       "      <td>4</td>\n",
       "      <td>7</td>\n",
       "      <td>3</td>\n",
       "      <td>6</td>\n",
       "      <td></td>\n",
       "    </tr>\n",
       "    <tr>\n",
       "      <th>3</th>\n",
       "      <td>14</td>\n",
       "      <td>15</td>\n",
       "      <td>1</td>\n",
       "      <td>2024</td>\n",
       "      <td>0</td>\n",
       "      <td>1</td>\n",
       "      <td>2</td>\n",
       "      <td>77</td>\n",
       "      <td>2</td>\n",
       "      <td>1</td>\n",
       "      <td>...</td>\n",
       "      <td>0</td>\n",
       "      <td>0</td>\n",
       "      <td>1782061,06870229</td>\n",
       "      <td>3</td>\n",
       "      <td>0</td>\n",
       "      <td>4</td>\n",
       "      <td>7</td>\n",
       "      <td>3</td>\n",
       "      <td>6</td>\n",
       "      <td></td>\n",
       "    </tr>\n",
       "    <tr>\n",
       "      <th>4</th>\n",
       "      <td>14</td>\n",
       "      <td>23</td>\n",
       "      <td>1</td>\n",
       "      <td>2024</td>\n",
       "      <td>0</td>\n",
       "      <td>1</td>\n",
       "      <td>1</td>\n",
       "      <td>32</td>\n",
       "      <td>1</td>\n",
       "      <td>1</td>\n",
       "      <td>...</td>\n",
       "      <td>0</td>\n",
       "      <td>0</td>\n",
       "      <td>5931717,5572519</td>\n",
       "      <td>3</td>\n",
       "      <td>0</td>\n",
       "      <td>5</td>\n",
       "      <td>10</td>\n",
       "      <td>5</td>\n",
       "      <td>10</td>\n",
       "      <td>1</td>\n",
       "    </tr>\n",
       "  </tbody>\n",
       "</table>\n",
       "<p>5 rows × 213 columns</p>\n",
       "</div>"
      ],
      "text/plain": [
       "   UPM  NVIVI  NHOGA   AÑO  DPTO  AREA  L02  P02  P03  P04  ...  ingrevasode  \\\n",
       "0   14      3      1  2024     0     1    2   40    1    1  ...            0   \n",
       "1   14      3      1  2024     0     1    6   38    2    1  ...            0   \n",
       "2   14     15      1  2024     0     1    1   78    1    1  ...            0   \n",
       "3   14     15      1  2024     0     1    2   77    2    1  ...            0   \n",
       "4   14     23      1  2024     0     1    1   32    1    1  ...            0   \n",
       "\n",
       "  ingrealmuerzode              ipcm  pobrezai  pobnopoi  quintili  decili  \\\n",
       "0               0  4035459,49658286         3         0         5      10   \n",
       "1               0  4035459,49658286         3         0         5      10   \n",
       "2               0  1782061,06870229         3         0         4       7   \n",
       "3               0  1782061,06870229         3         0         4       7   \n",
       "4               0   5931717,5572519         3         0         5      10   \n",
       "\n",
       "   quintiai  decilai  informalidad  \n",
       "0         5        9             2  \n",
       "1         5        9             1  \n",
       "2         3        6                \n",
       "3         3        6                \n",
       "4         5       10             1  \n",
       "\n",
       "[5 rows x 213 columns]"
      ]
     },
     "execution_count": 73,
     "metadata": {},
     "output_type": "execute_result"
    }
   ],
   "source": [
    "datos.head()"
   ]
  },
  {
   "cell_type": "code",
   "execution_count": 74,
   "id": "c78e3444-ed2e-4c30-ba51-db7bfab87e03",
   "metadata": {},
   "outputs": [
    {
     "name": "stdout",
     "output_type": "stream",
     "text": [
      "<class 'pandas.core.frame.DataFrame'>\n",
      "RangeIndex: 57744 entries, 0 to 57743\n",
      "Columns: 213 entries, UPM to informalidad\n",
      "dtypes: int64(25), object(188)\n",
      "memory usage: 93.8+ MB\n"
     ]
    }
   ],
   "source": [
    "datos.info()"
   ]
  },
  {
   "cell_type": "markdown",
   "id": "c379e0a2-8e02-41cd-89e6-1dbf0b42a321",
   "metadata": {
    "jp-MarkdownHeadingCollapsed": true
   },
   "source": [
    "# Filtrado de datos"
   ]
  },
  {
   "cell_type": "markdown",
   "id": "1f5d7254-2658-4684-a1b4-e33652a12a04",
   "metadata": {},
   "source": [
    "Para el analisis voy a utilizar solo las siguientes columnas\n",
    "\n",
    "- P06: Sexo\n",
    "  - 1: Hombre\n",
    "  - 6: Mujer\n",
    "- P02: Edad\n",
    "- PEAA: Ocupación\n",
    "  - 1: Ocupado\n",
    "  - 2: Desocupado\n",
    "  - 3: Inactivo\n",
    "- E01A: Ingreso mensual Ocupación principal declarado"
   ]
  },
  {
   "cell_type": "code",
   "execution_count": 75,
   "id": "f0edb6a7-12fb-4615-b4cb-4bce385fd797",
   "metadata": {},
   "outputs": [],
   "source": [
    "# Dataframe con solo las columnas necesarias\n",
    "datos_filtrados = datos[[\"P06\", \"P02\", \"PEAA\", \"E01A\"]]"
   ]
  },
  {
   "cell_type": "code",
   "execution_count": 76,
   "id": "805e6851-406d-4351-8663-6069656849de",
   "metadata": {},
   "outputs": [
    {
     "data": {
      "text/html": [
       "<div>\n",
       "<style scoped>\n",
       "    .dataframe tbody tr th:only-of-type {\n",
       "        vertical-align: middle;\n",
       "    }\n",
       "\n",
       "    .dataframe tbody tr th {\n",
       "        vertical-align: top;\n",
       "    }\n",
       "\n",
       "    .dataframe thead th {\n",
       "        text-align: right;\n",
       "    }\n",
       "</style>\n",
       "<table border=\"1\" class=\"dataframe\">\n",
       "  <thead>\n",
       "    <tr style=\"text-align: right;\">\n",
       "      <th></th>\n",
       "      <th>P06</th>\n",
       "      <th>P02</th>\n",
       "      <th>PEAA</th>\n",
       "      <th>E01A</th>\n",
       "    </tr>\n",
       "  </thead>\n",
       "  <tbody>\n",
       "    <tr>\n",
       "      <th>0</th>\n",
       "      <td>1</td>\n",
       "      <td>40</td>\n",
       "      <td>1</td>\n",
       "      <td>3220000</td>\n",
       "    </tr>\n",
       "    <tr>\n",
       "      <th>1</th>\n",
       "      <td>6</td>\n",
       "      <td>38</td>\n",
       "      <td>1</td>\n",
       "      <td>3730373</td>\n",
       "    </tr>\n",
       "    <tr>\n",
       "      <th>2</th>\n",
       "      <td>1</td>\n",
       "      <td>78</td>\n",
       "      <td>3</td>\n",
       "      <td>0</td>\n",
       "    </tr>\n",
       "    <tr>\n",
       "      <th>3</th>\n",
       "      <td>6</td>\n",
       "      <td>77</td>\n",
       "      <td>3</td>\n",
       "      <td>0</td>\n",
       "    </tr>\n",
       "    <tr>\n",
       "      <th>4</th>\n",
       "      <td>1</td>\n",
       "      <td>32</td>\n",
       "      <td>1</td>\n",
       "      <td>5500000</td>\n",
       "    </tr>\n",
       "  </tbody>\n",
       "</table>\n",
       "</div>"
      ],
      "text/plain": [
       "   P06  P02 PEAA     E01A\n",
       "0    1   40    1  3220000\n",
       "1    6   38    1  3730373\n",
       "2    1   78    3        0\n",
       "3    6   77    3        0\n",
       "4    1   32    1  5500000"
      ]
     },
     "execution_count": 76,
     "metadata": {},
     "output_type": "execute_result"
    }
   ],
   "source": [
    "datos_filtrados.head()"
   ]
  },
  {
   "cell_type": "code",
   "execution_count": 77,
   "id": "c1e3aed9-3ec1-4a4b-a1a9-b629ed6a88f7",
   "metadata": {},
   "outputs": [
    {
     "data": {
      "text/plain": [
       "(57744, 4)"
      ]
     },
     "execution_count": 77,
     "metadata": {},
     "output_type": "execute_result"
    }
   ],
   "source": [
    "datos_filtrados.shape"
   ]
  },
  {
   "cell_type": "code",
   "execution_count": 78,
   "id": "603fe048-404c-49d7-9bf1-ebad8c7f42b4",
   "metadata": {},
   "outputs": [
    {
     "name": "stdout",
     "output_type": "stream",
     "text": [
      "<class 'pandas.core.frame.DataFrame'>\n",
      "RangeIndex: 57744 entries, 0 to 57743\n",
      "Data columns (total 4 columns):\n",
      " #   Column  Non-Null Count  Dtype \n",
      "---  ------  --------------  ----- \n",
      " 0   P06     57744 non-null  int64 \n",
      " 1   P02     57744 non-null  int64 \n",
      " 2   PEAA    57744 non-null  object\n",
      " 3   E01A    57744 non-null  object\n",
      "dtypes: int64(2), object(2)\n",
      "memory usage: 1.8+ MB\n"
     ]
    }
   ],
   "source": [
    "datos_filtrados.info()"
   ]
  },
  {
   "cell_type": "markdown",
   "id": "15f85fb9-ad6a-4a51-adfc-71f6a6f54a1f",
   "metadata": {},
   "source": [
    "## Trabajo sobre los datos"
   ]
  },
  {
   "cell_type": "code",
   "execution_count": 79,
   "id": "cfe84a20-a897-446e-b94c-ee21159bf49f",
   "metadata": {},
   "outputs": [],
   "source": [
    "# Renombrar las columnas\n",
    "datos_filtrados.columns = [\"Sexo\", \"Edad\", \"Ocupacion\", \"Ingreso\"]"
   ]
  },
  {
   "cell_type": "code",
   "execution_count": 80,
   "id": "f9fd296a-cd21-46bf-b634-03654bceab78",
   "metadata": {},
   "outputs": [
    {
     "name": "stderr",
     "output_type": "stream",
     "text": [
      "/tmp/ipykernel_12036/857654796.py:4: SettingWithCopyWarning: \n",
      "A value is trying to be set on a copy of a slice from a DataFrame.\n",
      "Try using .loc[row_indexer,col_indexer] = value instead\n",
      "\n",
      "See the caveats in the documentation: https://pandas.pydata.org/pandas-docs/stable/user_guide/indexing.html#returning-a-view-versus-a-copy\n",
      "  datos_filtrados[\"Ocupacion\"] = datos_filtrados[\"Ocupacion\"].replace(\" \", np.nan)\n",
      "/tmp/ipykernel_12036/857654796.py:7: SettingWithCopyWarning: \n",
      "A value is trying to be set on a copy of a slice from a DataFrame.\n",
      "Try using .loc[row_indexer,col_indexer] = value instead\n",
      "\n",
      "See the caveats in the documentation: https://pandas.pydata.org/pandas-docs/stable/user_guide/indexing.html#returning-a-view-versus-a-copy\n",
      "  datos_filtrados[\"Ocupacion\"] = pd.to_numeric(datos_filtrados[\"Ocupacion\"], errors=\"coerce\")\n"
     ]
    }
   ],
   "source": [
    "# Convertir la columna Ocupacion a int64\n",
    "\n",
    "# Reemplazar el ' ' por NaN\n",
    "datos_filtrados[\"Ocupacion\"] = datos_filtrados[\"Ocupacion\"].replace(\" \", np.nan)\n",
    "\n",
    "# Convertir a número\n",
    "datos_filtrados[\"Ocupacion\"] = pd.to_numeric(datos_filtrados[\"Ocupacion\"], errors=\"coerce\")\n",
    "\n",
    "# Eliminar filas con NaN en Ocupacion\n",
    "datos_filtrados = datos_filtrados.dropna(subset=[\"Ocupacion\"])\n",
    "\n",
    "# Pasar de float64 a int64\n",
    "datos_filtrados[\"Ocupacion\"] = datos_filtrados[\"Ocupacion\"].astype(\"int64\")"
   ]
  },
  {
   "cell_type": "code",
   "execution_count": 82,
   "id": "d995a701-921a-4724-9a59-695d2034bb9f",
   "metadata": {},
   "outputs": [],
   "source": [
    "# Seleccionar solo las personas ocupadas, es decir, Ocupacion = 1\n",
    "datos_filtrados = datos_filtrados[datos_filtrados[\"Ocupacion\"] == 1]"
   ]
  },
  {
   "cell_type": "code",
   "execution_count": 83,
   "id": "55fac3c5-5ab6-4f01-afec-a84ed1e326ce",
   "metadata": {},
   "outputs": [
    {
     "data": {
      "text/plain": [
       "array([1])"
      ]
     },
     "execution_count": 83,
     "metadata": {},
     "output_type": "execute_result"
    }
   ],
   "source": [
    "# Ahora solo hay personas ocupas\n",
    "datos_filtrados[\"Ocupacion\"].unique()"
   ]
  },
  {
   "cell_type": "code",
   "execution_count": 84,
   "id": "d2be60a1-be8c-4beb-90a0-e21845ce5575",
   "metadata": {},
   "outputs": [],
   "source": [
    "# Convertir Ingreso a int64\n",
    "datos_filtrados[\"Ingreso\"] = datos_filtrados[\"Ingreso\"].astype(\"int64\")"
   ]
  },
  {
   "cell_type": "code",
   "execution_count": 87,
   "id": "10dc49e2-b651-40f2-9efa-085c0636ba9c",
   "metadata": {},
   "outputs": [
    {
     "name": "stdout",
     "output_type": "stream",
     "text": [
      "<class 'pandas.core.frame.DataFrame'>\n",
      "Index: 29079 entries, 0 to 57743\n",
      "Data columns (total 4 columns):\n",
      " #   Column     Non-Null Count  Dtype\n",
      "---  ------     --------------  -----\n",
      " 0   Sexo       29079 non-null  int64\n",
      " 1   Edad       29079 non-null  int64\n",
      " 2   Ocupacion  29079 non-null  int64\n",
      " 3   Ingreso    29079 non-null  int64\n",
      "dtypes: int64(4)\n",
      "memory usage: 1.1 MB\n"
     ]
    }
   ],
   "source": [
    "datos_filtrados.info()"
   ]
  },
  {
   "cell_type": "markdown",
   "id": "441a9fa7-02ff-4b9e-b3fc-4c638e1c9a2e",
   "metadata": {},
   "source": [
    "# Analisis"
   ]
  }
 ],
 "metadata": {
  "kernelspec": {
   "display_name": "Python [conda env:base] *",
   "language": "python",
   "name": "conda-base-py"
  },
  "language_info": {
   "codemirror_mode": {
    "name": "ipython",
    "version": 3
   },
   "file_extension": ".py",
   "mimetype": "text/x-python",
   "name": "python",
   "nbconvert_exporter": "python",
   "pygments_lexer": "ipython3",
   "version": "3.13.5"
  }
 },
 "nbformat": 4,
 "nbformat_minor": 5
}
